
import tensorflow as tf
from tensorflow.keras import layers
from PIL import Image
data=tf.keras.utils.image_dataset_from_directory(
    "./cifer10/train",
    image_size=(32,32),
    color_mode="rgb",
    batch_size=50000
)
data
cnn_model=tf.keras.Sequential([
    layers.Conv2D(9,3,padding="same",input_shape=(32,3,3)),
    layers.MaxPool2D(),
    layers.Conv2D(18,3,padding="same"),
    layers.MaxPool2D(),
    layers.Conv2D(36,3),
    layers.MaxPool2D(),
    layers.Flatten(),
    layers.Dense(64,activation="relu"),
    layers.Dense(10),
    layers.Softmax()
    ])
cnn_model.build(input_shape=(32,32))
cnn_model.summary()
for features,labels in data:
    labels=tf.one_hot(labels)
    featurs=tf.divsion(features,255)
    print(features.shape,labels.shape)
record=cnn_model.fit(features,labels,batch_size=50,epochs=10)    
model.compile(
    loss=tf.keras.losses.categorical_crossentorpy,
    optimizer=tf.keras.optimizers.Adam(),
    metrics=["accuracy"]
)
for features,labels in data:
  features=tf.divide(features,225)
  labels=tf.one_hot(labels,10)
record=model.fit(
    features,
    labels,
    batch_size=50,
    epochs=10
)
